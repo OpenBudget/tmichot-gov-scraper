{
 "cells": [
  {
   "cell_type": "code",
   "execution_count": 1,
   "metadata": {
    "collapsed": true,
    "deletable": true,
    "editable": true
   },
   "outputs": [],
   "source": [
    "import time\n",
    "\n",
    "from selenium import webdriver\n",
    "from selenium.webdriver.common.action_chains import ActionChains\n",
    "from selenium.webdriver.common.by import By\n",
    "from selenium.webdriver.support.ui import WebDriverWait\n",
    "from selenium.webdriver.support import expected_conditions as EC"
   ]
  },
  {
   "cell_type": "markdown",
   "metadata": {
    "deletable": true,
    "editable": true
   },
   "source": [
    "Set-up web-driver"
   ]
  },
  {
   "cell_type": "code",
   "execution_count": 2,
   "metadata": {
    "collapsed": true,
    "deletable": true,
    "editable": true
   },
   "outputs": [],
   "source": [
    "driver = webdriver.Chrome()\n",
    "driver.implicitly_wait(30)"
   ]
  },
  {
   "cell_type": "markdown",
   "metadata": {
    "deletable": true,
    "editable": true
   },
   "source": [
    "Open main page"
   ]
  },
  {
   "cell_type": "code",
   "execution_count": 3,
   "metadata": {
    "collapsed": false,
    "deletable": true,
    "editable": true
   },
   "outputs": [],
   "source": [
    "driver.get('http://www.tmichot.gov.il')\n",
    "main_wh = driver.current_window_handle\n",
    "element = WebDriverWait(driver, 30).until(\n",
    "    EC.presence_of_element_located((By.ID, \"idd1\"))\n",
    ")"
   ]
  },
  {
   "cell_type": "markdown",
   "metadata": {
    "deletable": true,
    "editable": true
   },
   "source": [
    "Click on 'דוחות'"
   ]
  },
  {
   "cell_type": "code",
   "execution_count": 4,
   "metadata": {
    "collapsed": false,
    "deletable": true,
    "editable": true
   },
   "outputs": [],
   "source": [
    "frame = driver.find_element_by_id('idd1')\n",
    "driver.switch_to_frame(frame)"
   ]
  },
  {
   "cell_type": "code",
   "execution_count": 5,
   "metadata": {
    "collapsed": false,
    "deletable": true,
    "editable": true
   },
   "outputs": [],
   "source": [
    "el = driver.find_element_by_id('__cell0')\n",
    "hover = ActionChains(driver).move_to_element(el)\\\n",
    "            .move_to_element_with_offset(el, xoffset=10, yoffset=10)\\\n",
    "            .click()\\\n",
    "            .perform()\n",
    "time.sleep(30)"
   ]
  },
  {
   "cell_type": "markdown",
   "metadata": {
    "deletable": true,
    "editable": true
   },
   "source": [
    "Switch to charts tab"
   ]
  },
  {
   "cell_type": "code",
   "execution_count": 6,
   "metadata": {
    "collapsed": false,
    "deletable": true,
    "editable": true
   },
   "outputs": [],
   "source": [
    "charts_wh = set(driver.window_handles)\n",
    "charts_wh.remove(main_wh)\n",
    "charts_wh = charts_wh.pop()\n"
   ]
  },
  {
   "cell_type": "code",
   "execution_count": 7,
   "metadata": {
    "collapsed": true,
    "deletable": true,
    "editable": true
   },
   "outputs": [],
   "source": [
    "def get_chart():\n",
    "    driver.switch_to_window(charts_wh)\n",
    "#     frame = WebDriverWait(driver, 30).until(\n",
    "#         EC.presence_of_element_located((By.ID, \"openDocChildFrame\"))\n",
    "#     )\n",
    "#     print(frame)\n",
    "#     driver.switch_to_frame(frame)\n",
    "    chart = WebDriverWait(driver, 30).until(\n",
    "        EC.presence_of_element_located((By.ID, \"UIComp_27\"))\n",
    "    )\n",
    "    print(chart)\n",
    "    time.sleep(30)\n",
    "    return chart"
   ]
  },
  {
   "cell_type": "markdown",
   "metadata": {
    "deletable": true,
    "editable": true
   },
   "source": [
    "#### Some utility functions first\n",
    "\n",
    "Switch to results page & iframe\n"
   ]
  },
  {
   "cell_type": "code",
   "execution_count": 8,
   "metadata": {
    "collapsed": false,
    "deletable": true,
    "editable": true
   },
   "outputs": [],
   "source": [
    "def switch_to_results_page():\n",
    "    results_wh = set(driver.window_handles)\n",
    "    results_wh.remove(main_wh)\n",
    "    results_wh.remove(charts_wh)\n",
    "    results_wh = results_wh.pop()\n",
    "    driver.switch_to_window(results_wh)\n",
    "    element = WebDriverWait(driver, 30).until(\n",
    "        EC.presence_of_element_located((By.TAG_NAME, \"iframe\"))\n",
    "    )\n",
    "    # Now select the iframe:\n",
    "    frame = driver.find_element_by_tag_name('iframe')\n",
    "    driver.switch_to_frame(frame)\n",
    "    frame = driver.find_element_by_id('openDocChildFrame')\n",
    "    driver.switch_to_frame(frame)\n",
    "    frame = driver.find_element_by_id('webiViewFrame')\n",
    "    driver.switch_to_frame(frame)\n",
    "    waitDlg = WebDriverWait(driver, 30).until(\n",
    "        EC.presence_of_element_located((By.ID, \"waitDlg\"))\n",
    "    )\n",
    "    while waitDlg.value_of_css_property('display') != 'none':\n",
    "        time.sleep(1)\n"
   ]
  },
  {
   "cell_type": "markdown",
   "metadata": {
    "deletable": true,
    "editable": true
   },
   "source": [
    "Click on export button"
   ]
  },
  {
   "cell_type": "code",
   "execution_count": 9,
   "metadata": {
    "collapsed": false,
    "deletable": true,
    "editable": true
   },
   "outputs": [],
   "source": [
    "def click_on_export():\n",
    "    export_button = WebDriverWait(driver, 30).until(\n",
    "        EC.presence_of_element_located((By.ID, \"IconImg__dhtmlLib_290\"))\n",
    "    )\n",
    "    export_button.click()\n",
    "\n",
    "    data_label = WebDriverWait(driver, 30).until(\n",
    "        EC.presence_of_element_located((By.ID, \"label_radioData\"))\n",
    "    )\n",
    "    data_label.click()\n",
    "\n",
    "    ok_button = driver.find_element_by_id('RealBtn_csvopOKButton')\n",
    "    ok_button.click()"
   ]
  },
  {
   "cell_type": "code",
   "execution_count": 10,
   "metadata": {
    "collapsed": true,
    "deletable": true,
    "editable": true
   },
   "outputs": [],
   "source": [
    "def get_results_for_column(column):\n",
    "    column.click()\n",
    "    time.sleep(10)\n",
    "    switch_to_results_page()\n",
    "    click_on_export()\n",
    "    time.sleep(10)\n",
    "    driver.close()\n",
    "    driver.switch_to_window(charts_wh)"
   ]
  },
  {
   "cell_type": "markdown",
   "metadata": {
    "deletable": true,
    "editable": true
   },
   "source": [
    "Click on all columns :)\n"
   ]
  },
  {
   "cell_type": "code",
   "execution_count": 11,
   "metadata": {
    "collapsed": false,
    "deletable": true,
    "editable": true
   },
   "outputs": [
    {
     "name": "stdout",
     "output_type": "stream",
     "text": [
      "<selenium.webdriver.remote.webelement.WebElement (session=\"02b12626ba379cb2cf26fa8d2649b3e1\", element=\"0.8919151761158703-1\")>\n",
      "[<selenium.webdriver.remote.webelement.WebElement (session=\"02b12626ba379cb2cf26fa8d2649b3e1\", element=\"0.8919151761158703-2\")>, <selenium.webdriver.remote.webelement.WebElement (session=\"02b12626ba379cb2cf26fa8d2649b3e1\", element=\"0.8919151761158703-3\")>, <selenium.webdriver.remote.webelement.WebElement (session=\"02b12626ba379cb2cf26fa8d2649b3e1\", element=\"0.8919151761158703-4\")>, <selenium.webdriver.remote.webelement.WebElement (session=\"02b12626ba379cb2cf26fa8d2649b3e1\", element=\"0.8919151761158703-5\")>, <selenium.webdriver.remote.webelement.WebElement (session=\"02b12626ba379cb2cf26fa8d2649b3e1\", element=\"0.8919151761158703-6\")>, <selenium.webdriver.remote.webelement.WebElement (session=\"02b12626ba379cb2cf26fa8d2649b3e1\", element=\"0.8919151761158703-7\")>, <selenium.webdriver.remote.webelement.WebElement (session=\"02b12626ba379cb2cf26fa8d2649b3e1\", element=\"0.8919151761158703-8\")>, <selenium.webdriver.remote.webelement.WebElement (session=\"02b12626ba379cb2cf26fa8d2649b3e1\", element=\"0.8919151761158703-9\")>, <selenium.webdriver.remote.webelement.WebElement (session=\"02b12626ba379cb2cf26fa8d2649b3e1\", element=\"0.8919151761158703-10\")>, <selenium.webdriver.remote.webelement.WebElement (session=\"02b12626ba379cb2cf26fa8d2649b3e1\", element=\"0.8919151761158703-11\")>]\n",
      "10\n",
      "<selenium.webdriver.remote.webelement.WebElement (session=\"02b12626ba379cb2cf26fa8d2649b3e1\", element=\"0.8919151761158703-1\")>\n",
      "<selenium.webdriver.remote.webelement.WebElement (session=\"02b12626ba379cb2cf26fa8d2649b3e1\", element=\"0.8919151761158703-1\")>\n",
      "<selenium.webdriver.remote.webelement.WebElement (session=\"02b12626ba379cb2cf26fa8d2649b3e1\", element=\"0.8919151761158703-1\")>\n",
      "<selenium.webdriver.remote.webelement.WebElement (session=\"02b12626ba379cb2cf26fa8d2649b3e1\", element=\"0.8919151761158703-1\")>\n",
      "<selenium.webdriver.remote.webelement.WebElement (session=\"02b12626ba379cb2cf26fa8d2649b3e1\", element=\"0.8919151761158703-1\")>\n",
      "<selenium.webdriver.remote.webelement.WebElement (session=\"02b12626ba379cb2cf26fa8d2649b3e1\", element=\"0.8919151761158703-1\")>\n",
      "<selenium.webdriver.remote.webelement.WebElement (session=\"02b12626ba379cb2cf26fa8d2649b3e1\", element=\"0.8919151761158703-1\")>\n",
      "<selenium.webdriver.remote.webelement.WebElement (session=\"02b12626ba379cb2cf26fa8d2649b3e1\", element=\"0.8919151761158703-1\")>\n",
      "<selenium.webdriver.remote.webelement.WebElement (session=\"02b12626ba379cb2cf26fa8d2649b3e1\", element=\"0.8919151761158703-1\")>\n",
      "<selenium.webdriver.remote.webelement.WebElement (session=\"02b12626ba379cb2cf26fa8d2649b3e1\", element=\"0.8919151761158703-1\")>\n"
     ]
    }
   ],
   "source": [
    "rects = get_chart().find_elements_by_css_selector('rect.v-datapoint')\n",
    "print(rects)\n",
    "num = len(rects)\n",
    "print(num)\n",
    "# get_results_for_column(rects[0])\n",
    "for i in range(num):\n",
    "    rects = get_chart().find_elements_by_css_selector('rect.v-datapoint')\n",
    "    get_results_for_column(rects[i])"
   ]
  }
 ],
 "metadata": {
  "kernelspec": {
   "display_name": "Python 3",
   "language": "python",
   "name": "python3"
  },
  "language_info": {
   "codemirror_mode": {
    "name": "ipython",
    "version": 3
   },
   "file_extension": ".py",
   "mimetype": "text/x-python",
   "name": "python",
   "nbconvert_exporter": "python",
   "pygments_lexer": "ipython3",
   "version": "3.6.1"
  }
 },
 "nbformat": 4,
 "nbformat_minor": 2
}
